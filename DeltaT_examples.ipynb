{
 "cells": [
  {
   "cell_type": "code",
   "execution_count": 1,
   "metadata": {},
   "outputs": [],
   "source": [
    "from DeltaT import DeltaT, DeltaT_with_error_estimate\n",
    "import matplotlib.pyplot as plt \n",
    "import pandas as pd"
   ]
  },
  {
   "cell_type": "markdown",
   "metadata": {},
   "source": [
    "## Examples of Delta T calculation with error estimate"
   ]
  },
  {
   "cell_type": "code",
   "execution_count": 2,
   "metadata": {},
   "outputs": [
    {
     "data": {
      "text/plain": [
       "'69.15 ± 0.05 seconds'"
      ]
     },
     "execution_count": 2,
     "metadata": {},
     "output_type": "execute_result"
    }
   ],
   "source": [
    "DeltaT_with_error_estimate(2018.7)"
   ]
  },
  {
   "cell_type": "code",
   "execution_count": 3,
   "metadata": {},
   "outputs": [
    {
     "name": "stdout",
     "output_type": "stream",
     "text": [
      "       y               DeltaT\n",
      "0   -700  20050 ± 170 seconds\n",
      "1   -600  18468 ± 160 seconds\n",
      "2   -500  16940 ± 150 seconds\n",
      "3   -400  15474 ± 130 seconds\n",
      "4   -300  14081 ± 120 seconds\n",
      "5   -200  12773 ± 110 seconds\n",
      "6   -100  11558 ± 100 seconds\n",
      "7      0   10441 ± 90 seconds\n",
      "8    100    9405 ± 80 seconds\n",
      "9    200    8425 ± 70 seconds\n",
      "10   300    7476 ± 60 seconds\n",
      "11   400    6535 ± 50 seconds\n",
      "12   500    5587 ± 40 seconds\n",
      "13   600    4652 ± 40 seconds\n",
      "14   700    3760 ± 30 seconds\n",
      "15   800    2943 ± 25 seconds\n",
      "16   900    2230 ± 20 seconds\n",
      "17  1000    1650 ± 15 seconds\n",
      "18  1100    1223 ± 15 seconds\n",
      "19  1200     915 ± 15 seconds\n",
      "20  1300     681 ± 15 seconds\n",
      "21  1400     482 ± 15 seconds\n",
      "22  1500     292 ± 15 seconds\n",
      "23  1600     109 ± 15 seconds\n"
     ]
    }
   ],
   "source": [
    "# Comparison with the second table in http://astro.ukho.gov.uk/nao/lvm/\n",
    "y = range(-700, 1700, 100)\n",
    "dT = lambda y1: [y1, DeltaT_with_error_estimate(y1)]\n",
    "df = pd.DataFrame(list(map(dT,y)), columns=['y', 'DeltaT'])\n",
    "print(df)"
   ]
  },
  {
   "cell_type": "code",
   "execution_count": 4,
   "metadata": {},
   "outputs": [
    {
     "name": "stdout",
     "output_type": "stream",
     "text": [
      "       y                DeltaT\n",
      "0   1800    18.4 ± 0.5 seconds\n",
      "1   1810    15.7 ± 0.2 seconds\n",
      "2   1820    16.5 ± 0.2 seconds\n",
      "3   1830    10.8 ± 0.2 seconds\n",
      "4   1840     7.6 ± 0.1 seconds\n",
      "5   1850     9.3 ± 0.1 seconds\n",
      "6   1860     9.0 ± 0.1 seconds\n",
      "7   1870   2.37 ± 0.05 seconds\n",
      "8   1880  -3.21 ± 0.05 seconds\n",
      "9   1890  -3.88 ± 0.05 seconds\n",
      "10  1900  -1.98 ± 0.05 seconds\n"
     ]
    }
   ],
   "source": [
    "# Comparison with the 4th table in http://astro.ukho.gov.uk/nao/lvm/\n",
    "y = range(1800, 1901, 10)\n",
    "df = pd.DataFrame(list(map(dT,y)), columns=['y', 'DeltaT'])\n",
    "print(df)"
   ]
  },
  {
   "cell_type": "markdown",
   "metadata": {},
   "source": [
    "## Delta T Plot"
   ]
  },
  {
   "cell_type": "markdown",
   "metadata": {},
   "source": [
    "Plot Delta T from y=1500 to y=2200"
   ]
  },
  {
   "cell_type": "code",
   "execution_count": 5,
   "metadata": {},
   "outputs": [
    {
     "data": {
      "image/png": "[encoded data removed]",
      "text/plain": [
       "<Figure size 432x288 with 1 Axes>"
      ]
     },
     "metadata": {},
     "output_type": "display_data"
    }
   ],
   "source": [
    "y = range(1500,2201)\n",
    "dT = list(map(DeltaT, y))\n",
    "plt.plot(y, dT)\n",
    "plt.xlabel(\"y\")\n",
    "plt.ylabel(r\"$\\Delta$ T (s)\")\n",
    "plt.show()"
   ]
  },
  {
   "cell_type": "markdown",
   "metadata": {},
   "source": [
    "## Error of the extrapolation formula for 2019 < y < 2021.16"
   ]
  },
  {
   "cell_type": "markdown",
   "metadata": {},
   "source": [
    "Daily values of Delta T in 2019 and later can be constructed from the data published in [IERS Bulletin B](https://www.iers.org/IERS/EN/Publications/Bulletins/bulletins.html). \n",
    "\n",
    "The csv file \"DeltaT_IERS.csv\" contains data of Delta T from Jan 2019 to March 1, 2021 compiled from the IERS files. It has 4 columns:\n",
    "- jd: UT1 Julian date number \n",
    "- UT1_UTC: Value of UT1 - UTC in ms\n",
    "- sigma: estimated error of UT1 in ms\n",
    "- DeltaT: Delta T computed from (TT - UTC) - (UT1 - UTC) \n",
    "           = 42.184s + (accumulated leap seconds) - (UT1 - UTC)\n",
    "\n",
    "The data in this csv file can be used to calculate the error of the extrapolation formula for Delta T for y from 2019 to March 1, 2021.\n",
    "\n",
    "Value of y may be obtained from jd using the fact that the jd of 2000-Jan-1 0h is 2451544.5 and there are 365.2425 days in a Gregorian year on average:\n",
    "y = (jd - 2451544.5)/365.2425 + 2000"
   ]
  },
  {
   "cell_type": "code",
   "execution_count": 6,
   "metadata": {},
   "outputs": [],
   "source": [
    "df = pd.read_csv(\"DeltaT_IERS.csv\")"
   ]
  },
  {
   "cell_type": "code",
   "execution_count": 7,
   "metadata": {},
   "outputs": [],
   "source": [
    "df['y'] = df.apply(lambda row: (row['jd'] - 2451544.5)/365.2425 + 2000, axis=1)"
   ]
  },
  {
   "cell_type": "code",
   "execution_count": 8,
   "metadata": {},
   "outputs": [],
   "source": [
    "df['eps'] = df.apply(lambda row: DeltaT(row['y']) - row['DeltaT'], axis=1)"
   ]
  },
  {
   "cell_type": "code",
   "execution_count": 9,
   "metadata": {},
   "outputs": [
    {
     "data": {
      "text/html": [
       "<div>\n",
       "<style scoped>\n",
       "    .dataframe tbody tr th:only-of-type {\n",
       "        vertical-align: middle;\n",
       "    }\n",
       "\n",
       "    .dataframe tbody tr th {\n",
       "        vertical-align: top;\n",
       "    }\n",
       "\n",
       "    .dataframe thead th {\n",
       "        text-align: right;\n",
       "    }\n",
       "</style>\n",
       "<table border=\"1\" class=\"dataframe\">\n",
       "  <thead>\n",
       "    <tr style=\"text-align: right;\">\n",
       "      <th></th>\n",
       "      <th>y</th>\n",
       "      <th>eps</th>\n",
       "    </tr>\n",
       "  </thead>\n",
       "  <tbody>\n",
       "    <tr>\n",
       "      <th>count</th>\n",
       "      <td>790.000000</td>\n",
       "      <td>790.000000</td>\n",
       "    </tr>\n",
       "    <tr>\n",
       "      <th>mean</th>\n",
       "      <td>2020.083917</td>\n",
       "      <td>-0.086748</td>\n",
       "    </tr>\n",
       "    <tr>\n",
       "      <th>std</th>\n",
       "      <td>0.624784</td>\n",
       "      <td>0.038345</td>\n",
       "    </tr>\n",
       "    <tr>\n",
       "      <th>min</th>\n",
       "      <td>2019.003813</td>\n",
       "      <td>-0.161724</td>\n",
       "    </tr>\n",
       "    <tr>\n",
       "      <th>25%</th>\n",
       "      <td>2019.543865</td>\n",
       "      <td>-0.106447</td>\n",
       "    </tr>\n",
       "    <tr>\n",
       "      <th>50%</th>\n",
       "      <td>2020.083917</td>\n",
       "      <td>-0.085458</td>\n",
       "    </tr>\n",
       "    <tr>\n",
       "      <th>75%</th>\n",
       "      <td>2020.623969</td>\n",
       "      <td>-0.067356</td>\n",
       "    </tr>\n",
       "    <tr>\n",
       "      <th>max</th>\n",
       "      <td>2021.164021</td>\n",
       "      <td>0.019070</td>\n",
       "    </tr>\n",
       "  </tbody>\n",
       "</table>\n",
       "</div>"
      ],
      "text/plain": [
       "                 y         eps\n",
       "count   790.000000  790.000000\n",
       "mean   2020.083917   -0.086748\n",
       "std       0.624784    0.038345\n",
       "min    2019.003813   -0.161724\n",
       "25%    2019.543865   -0.106447\n",
       "50%    2020.083917   -0.085458\n",
       "75%    2020.623969   -0.067356\n",
       "max    2021.164021    0.019070"
      ]
     },
     "execution_count": 9,
     "metadata": {},
     "output_type": "execute_result"
    }
   ],
   "source": [
    "df[['y','eps']].describe()"
   ]
  },
  {
   "cell_type": "code",
   "execution_count": 10,
   "metadata": {},
   "outputs": [
    {
     "data": {
      "image/png": "[encoded data removed]",
      "text/plain": [
       "<Figure size 432x288 with 1 Axes>"
      ]
     },
     "metadata": {},
     "output_type": "display_data"
    }
   ],
   "source": [
    "plt.plot(df['y'] - 2019, df['eps'])\n",
    "plt.xlabel(\"y - 2019\")\n",
    "plt.ylabel(r\"Error in $\\Delta$ T (s)\")\n",
    "plt.show()"
   ]
  },
  {
   "cell_type": "markdown",
   "metadata": {},
   "source": [
    "We see that for 2019 < y < 2021.16, the maximum error of the extrapolated Delta T is 0.16 seconds, the mean is -0.087 seconds and std is 0.038 seconds. The root-mean-square error is sqrt(0.087^2+0.038^2) = 0.095 seconds. This result has been incorporated in the function `DeltaT_error_estimate()` in `DeltaT.py`, where an error of 0.16s is used for 2019 < y < 2021.16."
   ]
  }
 ],
 "metadata": {
  "kernelspec": {
   "display_name": "Python 3",
   "language": "python",
   "name": "python3"
  },
  "language_info": {
   "codemirror_mode": {
    "name": "ipython",
    "version": 3
   },
   "file_extension": ".py",
   "mimetype": "text/x-python",
   "name": "python",
   "nbconvert_exporter": "python",
   "pygments_lexer": "ipython3",
   "version": "3.6.5"
  }
 },
 "nbformat": 4,
 "nbformat_minor": 2
}
