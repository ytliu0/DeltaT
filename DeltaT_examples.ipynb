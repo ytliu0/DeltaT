{
 "cells": [
  {
   "cell_type": "code",
   "execution_count": 1,
   "metadata": {},
   "outputs": [],
   "source": [
    "from DeltaT import DeltaT, DeltaT_with_error_estimate\n",
    "import numpy as np\n",
    "import matplotlib.pyplot as plt \n",
    "import pandas as pd"
   ]
  },
  {
   "cell_type": "markdown",
   "metadata": {},
   "source": [
    "## Examples of Delta T calculation with error estimate"
   ]
  },
  {
   "cell_type": "code",
   "execution_count": 2,
   "metadata": {},
   "outputs": [
    {
     "data": {
      "text/plain": [
       "'69.18 ± 0.05 seconds'"
      ]
     },
     "execution_count": 2,
     "metadata": {},
     "output_type": "execute_result"
    }
   ],
   "source": [
    "DeltaT_with_error_estimate(2018.7)"
   ]
  },
  {
   "cell_type": "code",
   "execution_count": 3,
   "metadata": {},
   "outputs": [
    {
     "data": {
      "text/plain": [
       "['21769 ± 360 seconds',\n",
       " '25.63 ± 0.05 seconds',\n",
       " '5364 ± 40 seconds',\n",
       " '211 ± 20 seconds']"
      ]
     },
     "execution_count": 3,
     "metadata": {},
     "output_type": "execute_result"
    }
   ],
   "source": [
    "DeltaT_with_error_estimate([-800, 1942.5, 523.6, 2232])"
   ]
  },
  {
   "cell_type": "code",
   "execution_count": 4,
   "metadata": {},
   "outputs": [
    {
     "data": {
      "text/html": [
       "<div>\n",
       "<style scoped>\n",
       "    .dataframe tbody tr th:only-of-type {\n",
       "        vertical-align: middle;\n",
       "    }\n",
       "\n",
       "    .dataframe tbody tr th {\n",
       "        vertical-align: top;\n",
       "    }\n",
       "\n",
       "    .dataframe thead th {\n",
       "        text-align: right;\n",
       "    }\n",
       "</style>\n",
       "<table border=\"1\" class=\"dataframe\">\n",
       "  <thead>\n",
       "    <tr style=\"text-align: right;\">\n",
       "      <th></th>\n",
       "      <th>y</th>\n",
       "      <th>DeltaT</th>\n",
       "    </tr>\n",
       "  </thead>\n",
       "  <tbody>\n",
       "    <tr>\n",
       "      <th>0</th>\n",
       "      <td>-700</td>\n",
       "      <td>20050 ± 170 seconds</td>\n",
       "    </tr>\n",
       "    <tr>\n",
       "      <th>1</th>\n",
       "      <td>-600</td>\n",
       "      <td>18468 ± 160 seconds</td>\n",
       "    </tr>\n",
       "    <tr>\n",
       "      <th>2</th>\n",
       "      <td>-500</td>\n",
       "      <td>16940 ± 150 seconds</td>\n",
       "    </tr>\n",
       "    <tr>\n",
       "      <th>3</th>\n",
       "      <td>-400</td>\n",
       "      <td>15474 ± 130 seconds</td>\n",
       "    </tr>\n",
       "    <tr>\n",
       "      <th>4</th>\n",
       "      <td>-300</td>\n",
       "      <td>14081 ± 120 seconds</td>\n",
       "    </tr>\n",
       "    <tr>\n",
       "      <th>5</th>\n",
       "      <td>-200</td>\n",
       "      <td>12773 ± 110 seconds</td>\n",
       "    </tr>\n",
       "    <tr>\n",
       "      <th>6</th>\n",
       "      <td>-100</td>\n",
       "      <td>11558 ± 100 seconds</td>\n",
       "    </tr>\n",
       "    <tr>\n",
       "      <th>7</th>\n",
       "      <td>0</td>\n",
       "      <td>10441 ± 90 seconds</td>\n",
       "    </tr>\n",
       "    <tr>\n",
       "      <th>8</th>\n",
       "      <td>100</td>\n",
       "      <td>9405 ± 80 seconds</td>\n",
       "    </tr>\n",
       "    <tr>\n",
       "      <th>9</th>\n",
       "      <td>200</td>\n",
       "      <td>8425 ± 70 seconds</td>\n",
       "    </tr>\n",
       "    <tr>\n",
       "      <th>10</th>\n",
       "      <td>300</td>\n",
       "      <td>7476 ± 60 seconds</td>\n",
       "    </tr>\n",
       "    <tr>\n",
       "      <th>11</th>\n",
       "      <td>400</td>\n",
       "      <td>6535 ± 50 seconds</td>\n",
       "    </tr>\n",
       "    <tr>\n",
       "      <th>12</th>\n",
       "      <td>500</td>\n",
       "      <td>5587 ± 40 seconds</td>\n",
       "    </tr>\n",
       "    <tr>\n",
       "      <th>13</th>\n",
       "      <td>600</td>\n",
       "      <td>4652 ± 40 seconds</td>\n",
       "    </tr>\n",
       "    <tr>\n",
       "      <th>14</th>\n",
       "      <td>700</td>\n",
       "      <td>3760 ± 30 seconds</td>\n",
       "    </tr>\n",
       "    <tr>\n",
       "      <th>15</th>\n",
       "      <td>800</td>\n",
       "      <td>2943 ± 25 seconds</td>\n",
       "    </tr>\n",
       "    <tr>\n",
       "      <th>16</th>\n",
       "      <td>900</td>\n",
       "      <td>2230 ± 20 seconds</td>\n",
       "    </tr>\n",
       "    <tr>\n",
       "      <th>17</th>\n",
       "      <td>1000</td>\n",
       "      <td>1650 ± 15 seconds</td>\n",
       "    </tr>\n",
       "    <tr>\n",
       "      <th>18</th>\n",
       "      <td>1100</td>\n",
       "      <td>1223 ± 15 seconds</td>\n",
       "    </tr>\n",
       "    <tr>\n",
       "      <th>19</th>\n",
       "      <td>1200</td>\n",
       "      <td>915 ± 15 seconds</td>\n",
       "    </tr>\n",
       "    <tr>\n",
       "      <th>20</th>\n",
       "      <td>1300</td>\n",
       "      <td>681 ± 15 seconds</td>\n",
       "    </tr>\n",
       "    <tr>\n",
       "      <th>21</th>\n",
       "      <td>1400</td>\n",
       "      <td>482 ± 15 seconds</td>\n",
       "    </tr>\n",
       "    <tr>\n",
       "      <th>22</th>\n",
       "      <td>1500</td>\n",
       "      <td>292 ± 15 seconds</td>\n",
       "    </tr>\n",
       "    <tr>\n",
       "      <th>23</th>\n",
       "      <td>1600</td>\n",
       "      <td>109 ± 15 seconds</td>\n",
       "    </tr>\n",
       "  </tbody>\n",
       "</table>\n",
       "</div>"
      ],
      "text/plain": [
       "       y               DeltaT\n",
       "0   -700  20050 ± 170 seconds\n",
       "1   -600  18468 ± 160 seconds\n",
       "2   -500  16940 ± 150 seconds\n",
       "3   -400  15474 ± 130 seconds\n",
       "4   -300  14081 ± 120 seconds\n",
       "5   -200  12773 ± 110 seconds\n",
       "6   -100  11558 ± 100 seconds\n",
       "7      0   10441 ± 90 seconds\n",
       "8    100    9405 ± 80 seconds\n",
       "9    200    8425 ± 70 seconds\n",
       "10   300    7476 ± 60 seconds\n",
       "11   400    6535 ± 50 seconds\n",
       "12   500    5587 ± 40 seconds\n",
       "13   600    4652 ± 40 seconds\n",
       "14   700    3760 ± 30 seconds\n",
       "15   800    2943 ± 25 seconds\n",
       "16   900    2230 ± 20 seconds\n",
       "17  1000    1650 ± 15 seconds\n",
       "18  1100    1223 ± 15 seconds\n",
       "19  1200     915 ± 15 seconds\n",
       "20  1300     681 ± 15 seconds\n",
       "21  1400     482 ± 15 seconds\n",
       "22  1500     292 ± 15 seconds\n",
       "23  1600     109 ± 15 seconds"
      ]
     },
     "metadata": {},
     "output_type": "display_data"
    }
   ],
   "source": [
    "# Comparison with the second table in http://astro.ukho.gov.uk/nao/lvm/\n",
    "y = np.arange(-700, 1700, 100)\n",
    "df = pd.DataFrame({'y':y, 'DeltaT':DeltaT_with_error_estimate(y)})\n",
    "display(df)"
   ]
  },
  {
   "cell_type": "code",
   "execution_count": 5,
   "metadata": {},
   "outputs": [
    {
     "data": {
      "text/html": [
       "<div>\n",
       "<style scoped>\n",
       "    .dataframe tbody tr th:only-of-type {\n",
       "        vertical-align: middle;\n",
       "    }\n",
       "\n",
       "    .dataframe tbody tr th {\n",
       "        vertical-align: top;\n",
       "    }\n",
       "\n",
       "    .dataframe thead th {\n",
       "        text-align: right;\n",
       "    }\n",
       "</style>\n",
       "<table border=\"1\" class=\"dataframe\">\n",
       "  <thead>\n",
       "    <tr style=\"text-align: right;\">\n",
       "      <th></th>\n",
       "      <th>y</th>\n",
       "      <th>DeltaT</th>\n",
       "    </tr>\n",
       "  </thead>\n",
       "  <tbody>\n",
       "    <tr>\n",
       "      <th>0</th>\n",
       "      <td>1800</td>\n",
       "      <td>18.4 ± 0.5 seconds</td>\n",
       "    </tr>\n",
       "    <tr>\n",
       "      <th>1</th>\n",
       "      <td>1810</td>\n",
       "      <td>15.7 ± 0.2 seconds</td>\n",
       "    </tr>\n",
       "    <tr>\n",
       "      <th>2</th>\n",
       "      <td>1820</td>\n",
       "      <td>16.5 ± 0.2 seconds</td>\n",
       "    </tr>\n",
       "    <tr>\n",
       "      <th>3</th>\n",
       "      <td>1830</td>\n",
       "      <td>10.8 ± 0.2 seconds</td>\n",
       "    </tr>\n",
       "    <tr>\n",
       "      <th>4</th>\n",
       "      <td>1840</td>\n",
       "      <td>7.6 ± 0.1 seconds</td>\n",
       "    </tr>\n",
       "    <tr>\n",
       "      <th>5</th>\n",
       "      <td>1850</td>\n",
       "      <td>9.3 ± 0.1 seconds</td>\n",
       "    </tr>\n",
       "    <tr>\n",
       "      <th>6</th>\n",
       "      <td>1860</td>\n",
       "      <td>9.0 ± 0.1 seconds</td>\n",
       "    </tr>\n",
       "    <tr>\n",
       "      <th>7</th>\n",
       "      <td>1870</td>\n",
       "      <td>2.37 ± 0.05 seconds</td>\n",
       "    </tr>\n",
       "    <tr>\n",
       "      <th>8</th>\n",
       "      <td>1880</td>\n",
       "      <td>-3.21 ± 0.05 seconds</td>\n",
       "    </tr>\n",
       "    <tr>\n",
       "      <th>9</th>\n",
       "      <td>1890</td>\n",
       "      <td>-3.88 ± 0.05 seconds</td>\n",
       "    </tr>\n",
       "    <tr>\n",
       "      <th>10</th>\n",
       "      <td>1900</td>\n",
       "      <td>-1.98 ± 0.05 seconds</td>\n",
       "    </tr>\n",
       "  </tbody>\n",
       "</table>\n",
       "</div>"
      ],
      "text/plain": [
       "       y                DeltaT\n",
       "0   1800    18.4 ± 0.5 seconds\n",
       "1   1810    15.7 ± 0.2 seconds\n",
       "2   1820    16.5 ± 0.2 seconds\n",
       "3   1830    10.8 ± 0.2 seconds\n",
       "4   1840     7.6 ± 0.1 seconds\n",
       "5   1850     9.3 ± 0.1 seconds\n",
       "6   1860     9.0 ± 0.1 seconds\n",
       "7   1870   2.37 ± 0.05 seconds\n",
       "8   1880  -3.21 ± 0.05 seconds\n",
       "9   1890  -3.88 ± 0.05 seconds\n",
       "10  1900  -1.98 ± 0.05 seconds"
      ]
     },
     "metadata": {},
     "output_type": "display_data"
    }
   ],
   "source": [
    "# Comparison with the 4th table in http://astro.ukho.gov.uk/nao/lvm/\n",
    "y = np.arange(1800, 1901, 10)\n",
    "df = pd.DataFrame({'y':y, 'DeltaT':DeltaT_with_error_estimate(y)})\n",
    "display(df)"
   ]
  },
  {
   "cell_type": "markdown",
   "metadata": {},
   "source": [
    "## Delta T Plot"
   ]
  },
  {
   "cell_type": "markdown",
   "metadata": {},
   "source": [
    "Plot Delta T from y=1500 to y=2200"
   ]
  },
  {
   "cell_type": "code",
   "execution_count": 6,
   "metadata": {},
   "outputs": [
    {
     "data": {
      "image/png": "[encoded data removed]",
      "text/plain": [
       "<Figure size 640x480 with 1 Axes>"
      ]
     },
     "metadata": {},
     "output_type": "display_data"
    }
   ],
   "source": [
    "plt.rcParams.update({'font.size': 12})\n",
    "yint = np.arange(1500,2023)\n",
    "yext = np.arange(2022, 2201)\n",
    "plt.plot(yint, DeltaT(yint), '-b', label='interpolated')\n",
    "plt.plot(yext, DeltaT(yext), '--r', label='extrapolated')\n",
    "plt.xlabel('y')\n",
    "plt.ylabel(r'$\\Delta$ T (s)')\n",
    "plt.legend()\n",
    "plt.show()"
   ]
  },
  {
   "cell_type": "markdown",
   "metadata": {},
   "source": [
    "## Error of the extrapolation formula for y > 2022"
   ]
  },
  {
   "cell_type": "markdown",
   "metadata": {},
   "source": [
    "Daily values of Delta T in 1972 and later can be constructed from the data published in [IERS Bulletin B](https://www.iers.org/IERS/EN/Publications/Bulletins/bulletins.html). \n",
    "\n",
    "The csv file \"DeltaT_IERS.csv\" contains data of Delta T from Jan 1972 to January 1, 2023 compiled from the IERS files. It has the following columns:\n",
    "- year, month, day: UT1 date\n",
    "- MJD: UT1 Julian date number - 2400000.5\n",
    "- UT1_UTC: Value of UT1 - UTC in sec\n",
    "- sigma: estimated error of UT1 in sec\n",
    "- DeltaT: Delta T computed from (TT - UTC) - (UT1 - UTC) \n",
    "           = 42.184s + (accumulated leap seconds) - (UT1 - UTC)\n",
    "\n",
    "The data in this csv file can be used to calculate the error of the extrapolation formula for Delta T for y > 2022.\n",
    "\n",
    "Value of y may be obtained from MJD using the fact that the MJD of 2000-Jan-1 0h is 51544 and there are 365.2425 days in a Gregorian year on average:\n",
    "y = (MJD - 51544)/365.2425 + 2000"
   ]
  },
  {
   "cell_type": "code",
   "execution_count": 7,
   "metadata": {},
   "outputs": [
    {
     "data": {
      "text/html": [
       "<div>\n",
       "<style scoped>\n",
       "    .dataframe tbody tr th:only-of-type {\n",
       "        vertical-align: middle;\n",
       "    }\n",
       "\n",
       "    .dataframe tbody tr th {\n",
       "        vertical-align: top;\n",
       "    }\n",
       "\n",
       "    .dataframe thead th {\n",
       "        text-align: right;\n",
       "    }\n",
       "</style>\n",
       "<table border=\"1\" class=\"dataframe\">\n",
       "  <thead>\n",
       "    <tr style=\"text-align: right;\">\n",
       "      <th></th>\n",
       "      <th>y</th>\n",
       "      <th>eps</th>\n",
       "    </tr>\n",
       "  </thead>\n",
       "  <tbody>\n",
       "    <tr>\n",
       "      <th>count</th>\n",
       "      <td>366.000000</td>\n",
       "      <td>366.000000</td>\n",
       "    </tr>\n",
       "    <tr>\n",
       "      <th>mean</th>\n",
       "      <td>2022.501489</td>\n",
       "      <td>0.054090</td>\n",
       "    </tr>\n",
       "    <tr>\n",
       "      <th>std</th>\n",
       "      <td>0.289669</td>\n",
       "      <td>0.051680</td>\n",
       "    </tr>\n",
       "    <tr>\n",
       "      <th>min</th>\n",
       "      <td>2022.001821</td>\n",
       "      <td>-0.015794</td>\n",
       "    </tr>\n",
       "    <tr>\n",
       "      <th>25%</th>\n",
       "      <td>2022.251655</td>\n",
       "      <td>0.004824</td>\n",
       "    </tr>\n",
       "    <tr>\n",
       "      <th>50%</th>\n",
       "      <td>2022.501489</td>\n",
       "      <td>0.047379</td>\n",
       "    </tr>\n",
       "    <tr>\n",
       "      <th>75%</th>\n",
       "      <td>2022.751323</td>\n",
       "      <td>0.111481</td>\n",
       "    </tr>\n",
       "    <tr>\n",
       "      <th>max</th>\n",
       "      <td>2023.001157</td>\n",
       "      <td>0.121240</td>\n",
       "    </tr>\n",
       "  </tbody>\n",
       "</table>\n",
       "</div>"
      ],
      "text/plain": [
       "                 y         eps\n",
       "count   366.000000  366.000000\n",
       "mean   2022.501489    0.054090\n",
       "std       0.289669    0.051680\n",
       "min    2022.001821   -0.015794\n",
       "25%    2022.251655    0.004824\n",
       "50%    2022.501489    0.047379\n",
       "75%    2022.751323    0.111481\n",
       "max    2023.001157    0.121240"
      ]
     },
     "execution_count": 7,
     "metadata": {},
     "output_type": "execute_result"
    }
   ],
   "source": [
    "df = pd.read_csv(\"DeltaT_IERS.csv\")\n",
    "df['y'] = (df['MJD'] - 51544)/365.2425 + 2000\n",
    "df = df[df.y > 2022].copy()\n",
    "df['eps'] = DeltaT(df['y']) - df['DeltaT']\n",
    "df[['y','eps']].describe()"
   ]
  },
  {
   "cell_type": "code",
   "execution_count": 8,
   "metadata": {},
   "outputs": [
    {
     "data": {
      "image/png": "[encoded data removed]",
      "text/plain": [
       "<Figure size 640x480 with 1 Axes>"
      ]
     },
     "metadata": {},
     "output_type": "display_data"
    }
   ],
   "source": [
    "plt.plot(df['y'] - 2022, df['eps'])\n",
    "plt.xlabel(\"y - 2022\")\n",
    "plt.ylabel(r\"Error in $\\Delta$ T (s)\")\n",
    "plt.show()"
   ]
  },
  {
   "cell_type": "markdown",
   "metadata": {},
   "source": [
    "We see that for y > 2022, the maximum error of the extrapolated Delta T is 0.121 seconds in magnitude, the mean is 0.054 seconds and std is 0.052 seconds. The root-mean-square error is sqrt(0.054^2+0.052^2) = 0.075 seconds."
   ]
  }
 ],
 "metadata": {
  "kernelspec": {
   "display_name": "Python 3 (ipykernel)",
   "language": "python",
   "name": "python3"
  },
  "language_info": {
   "codemirror_mode": {
    "name": "ipython",
    "version": 3
   },
   "file_extension": ".py",
   "mimetype": "text/x-python",
   "name": "python",
   "nbconvert_exporter": "python",
   "pygments_lexer": "ipython3",
   "version": "3.8.10"
  }
 },
 "nbformat": 4,
 "nbformat_minor": 2
}
